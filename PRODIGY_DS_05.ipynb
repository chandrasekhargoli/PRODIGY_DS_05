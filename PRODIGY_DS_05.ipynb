{
  "nbformat": 4,
  "nbformat_minor": 0,
  "metadata": {
    "colab": {
      "provenance": [],
      "authorship_tag": "ABX9TyOzdxSaSlfrOND7qyxElHHT",
      "include_colab_link": true
    },
    "kernelspec": {
      "name": "python3",
      "display_name": "Python 3"
    },
    "language_info": {
      "name": "python"
    }
  },
  "cells": [
    {
      "cell_type": "markdown",
      "metadata": {
        "id": "view-in-github",
        "colab_type": "text"
      },
      "source": [
        "<a href=\"https://colab.research.google.com/github/chandrasekhargoli/PRODIGY_DS_05/blob/main/PRODIGY_DS_05.ipynb\" target=\"_parent\"><img src=\"https://colab.research.google.com/assets/colab-badge.svg\" alt=\"Open In Colab\"/></a>"
      ]
    },
    {
      "cell_type": "code",
      "execution_count": 3,
      "metadata": {
        "id": "K4uD3MJx9ta2",
        "colab": {
          "base_uri": "https://localhost:8080/",
          "height": 711
        },
        "outputId": "fe6e31f2-c121-44c9-b2a3-80ab65910b4e"
      },
      "outputs": [
        {
          "output_type": "execute_result",
          "data": {
            "text/plain": [
              "<folium.folium.Map at 0x7a32afc12260>"
            ],
            "text/html": [
              "<div style=\"width:100%;\"><div style=\"position:relative;width:100%;height:0;padding-bottom:60%;\"><span style=\"color:#565656\">Make this Notebook Trusted to load map: File -> Trust Notebook</span><iframe srcdoc=\"&lt;!DOCTYPE html&gt;\n",
              "&lt;html&gt;\n",
              "&lt;head&gt;\n",
              "    \n",
              "    &lt;meta http-equiv=&quot;content-type&quot; content=&quot;text/html; charset=UTF-8&quot; /&gt;\n",
              "    \n",
              "        &lt;script&gt;\n",
              "            L_NO_TOUCH = false;\n",
              "            L_DISABLE_3D = false;\n",
              "        &lt;/script&gt;\n",
              "    \n",
              "    &lt;style&gt;html, body {width: 100%;height: 100%;margin: 0;padding: 0;}&lt;/style&gt;\n",
              "    &lt;style&gt;#map {position:absolute;top:0;bottom:0;right:0;left:0;}&lt;/style&gt;\n",
              "    &lt;script src=&quot;https://cdn.jsdelivr.net/npm/leaflet@1.9.3/dist/leaflet.js&quot;&gt;&lt;/script&gt;\n",
              "    &lt;script src=&quot;https://code.jquery.com/jquery-1.12.4.min.js&quot;&gt;&lt;/script&gt;\n",
              "    &lt;script src=&quot;https://cdn.jsdelivr.net/npm/bootstrap@5.2.2/dist/js/bootstrap.bundle.min.js&quot;&gt;&lt;/script&gt;\n",
              "    &lt;script src=&quot;https://cdnjs.cloudflare.com/ajax/libs/Leaflet.awesome-markers/2.0.2/leaflet.awesome-markers.js&quot;&gt;&lt;/script&gt;\n",
              "    &lt;link rel=&quot;stylesheet&quot; href=&quot;https://cdn.jsdelivr.net/npm/leaflet@1.9.3/dist/leaflet.css&quot;/&gt;\n",
              "    &lt;link rel=&quot;stylesheet&quot; href=&quot;https://cdn.jsdelivr.net/npm/bootstrap@5.2.2/dist/css/bootstrap.min.css&quot;/&gt;\n",
              "    &lt;link rel=&quot;stylesheet&quot; href=&quot;https://netdna.bootstrapcdn.com/bootstrap/3.0.0/css/bootstrap.min.css&quot;/&gt;\n",
              "    &lt;link rel=&quot;stylesheet&quot; href=&quot;https://cdn.jsdelivr.net/npm/@fortawesome/fontawesome-free@6.2.0/css/all.min.css&quot;/&gt;\n",
              "    &lt;link rel=&quot;stylesheet&quot; href=&quot;https://cdnjs.cloudflare.com/ajax/libs/Leaflet.awesome-markers/2.0.2/leaflet.awesome-markers.css&quot;/&gt;\n",
              "    &lt;link rel=&quot;stylesheet&quot; href=&quot;https://cdn.jsdelivr.net/gh/python-visualization/folium/folium/templates/leaflet.awesome.rotate.min.css&quot;/&gt;\n",
              "    \n",
              "            &lt;meta name=&quot;viewport&quot; content=&quot;width=device-width,\n",
              "                initial-scale=1.0, maximum-scale=1.0, user-scalable=no&quot; /&gt;\n",
              "            &lt;style&gt;\n",
              "                #map_d29088c28f6ab3136e67c4f5aa8f0617 {\n",
              "                    position: relative;\n",
              "                    width: 100.0%;\n",
              "                    height: 100.0%;\n",
              "                    left: 0.0%;\n",
              "                    top: 0.0%;\n",
              "                }\n",
              "                .leaflet-container { font-size: 1rem; }\n",
              "            &lt;/style&gt;\n",
              "        \n",
              "    &lt;script src=&quot;https://cdn.jsdelivr.net/gh/python-visualization/folium@main/folium/templates/leaflet_heat.min.js&quot;&gt;&lt;/script&gt;\n",
              "&lt;/head&gt;\n",
              "&lt;body&gt;\n",
              "    \n",
              "    \n",
              "            &lt;div class=&quot;folium-map&quot; id=&quot;map_d29088c28f6ab3136e67c4f5aa8f0617&quot; &gt;&lt;/div&gt;\n",
              "        \n",
              "&lt;/body&gt;\n",
              "&lt;script&gt;\n",
              "    \n",
              "    \n",
              "            var map_d29088c28f6ab3136e67c4f5aa8f0617 = L.map(\n",
              "                &quot;map_d29088c28f6ab3136e67c4f5aa8f0617&quot;,\n",
              "                {\n",
              "                    center: [20.5937, 78.9629],\n",
              "                    crs: L.CRS.EPSG3857,\n",
              "                    zoom: 5,\n",
              "                    zoomControl: true,\n",
              "                    preferCanvas: false,\n",
              "                }\n",
              "            );\n",
              "\n",
              "            \n",
              "\n",
              "        \n",
              "    \n",
              "            var tile_layer_8f8c44a37e6c5797c7c7ad27ed08722f = L.tileLayer(\n",
              "                &quot;https://{s}.tile.openstreetmap.org/{z}/{x}/{y}.png&quot;,\n",
              "                {&quot;attribution&quot;: &quot;Data by \\u0026copy; \\u003ca target=\\&quot;_blank\\&quot; href=\\&quot;http://openstreetmap.org\\&quot;\\u003eOpenStreetMap\\u003c/a\\u003e, under \\u003ca target=\\&quot;_blank\\&quot; href=\\&quot;http://www.openstreetmap.org/copyright\\&quot;\\u003eODbL\\u003c/a\\u003e.&quot;, &quot;detectRetina&quot;: false, &quot;maxNativeZoom&quot;: 18, &quot;maxZoom&quot;: 18, &quot;minZoom&quot;: 0, &quot;noWrap&quot;: false, &quot;opacity&quot;: 1, &quot;subdomains&quot;: &quot;abc&quot;, &quot;tms&quot;: false}\n",
              "            ).addTo(map_d29088c28f6ab3136e67c4f5aa8f0617);\n",
              "        \n",
              "    \n",
              "            var heat_map_0c43f79623d8a4d90dc9de833f81da92 = L.heatLayer(\n",
              "                [[31.95959183639309, 70.34738668566855], [13.409754266350166, 70.24477974245151], [15.413039461450293, 86.58342332060292], [27.49920799169787, 92.55832842253798], [26.56415366688641, 97.58313218452973], [10.645887331978003, 81.02459617229867], [18.006570436225903, 82.14819357137117], [19.247252784048076, 91.44948402838327], [25.162279154063626, 84.06840658498194], [28.583466916634173, 91.63791572590462], [11.791137621465522, 83.87165737552267], [21.812213035337223, 93.49452415306033], [15.823532987027747, 79.907396737903], [17.46146716255696, 76.94115039778715], [18.649829630615177, 72.15077007998259], [14.389356330417776, 72.70098029806745], [24.828397965134823, 89.03268030560082], [8.102880418124062, 72.38264102488276], [23.61631455596472, 94.9575287182223], [21.38372265694423, 80.56464535265577], [23.642476505147215, 76.9821331151086], [19.985189868361037, 79.3255936125225], [19.723361351933804, 86.61494160857632], [27.552843640918518, 68.78648061392497], [20.81091709899199, 91.99745934350153], [30.825031160804382, 81.03015743066804], [27.45351550125293, 73.27884029684542], [16.02255006747648, 68.59361672388732], [24.00043564421631, 79.40874531977948], [18.461721570085466, 93.63270145013037], [18.944117775817425, 84.58606178956919], [24.90747173629796, 88.55471347320584], [29.944487675792363, 83.62396751736895], [10.005114977918758, 76.86753481047745], [19.493442520754954, 91.41175648881493], [30.96378933224996, 86.36219763409879], [12.22850929262339, 78.35909401879984], [11.808988950766869, 79.26431277297974], [20.60433716944942, 70.03492738127137], [9.988597337951235, 96.93689562773467], [11.813307354265923, 75.04737870763816], [15.663574723987036, 90.02648551172089], [20.570798210073043, 88.23750898823033], [31.77685610051171, 94.8495818208079], [31.81017526096714, 82.3743685961161], [19.077347609212808, 78.77131144775285], [23.9340397915506, 81.10931249614866], [13.750437084303229, 95.9669411346239], [29.53447974222813, 68.2466183193833], [24.96118131491294, 91.44738138083743], [8.30653048758852, 79.84208111512594], [17.269955833358736, 73.94589462640293], [10.40974127865022, 95.74529232129925], [11.67309609924536, 93.92758744711645], [18.679116129568182, 89.35644992776966], [19.012683237676427, 68.70267192944466], [23.502969640899675, 84.42706881718422], [9.647407909065835, 92.66447557264141], [29.05499408286269, 83.08567431529247], [16.170069661047417, 88.31221849878175], [26.23718823769766, 82.37578420330583], [11.84032576838549, 79.29989990060207], [22.29997119554113, 76.50060415335969], [17.2230270409478, 86.71127249019727], [10.737110694241009, 72.7399160445398], [29.899779337117486, 89.81281877158247], [15.241550002696844, 94.21832738696276], [9.926090223388465, 77.49868570106467], [12.708859784139669, 69.44137198196997], [22.44585177561569, 72.14262742099167], [16.172158258658158, 74.4143047930693], [26.900495262614058, 94.46537867822437], [31.064060217876232, 84.3592807301269], [19.412096782075093, 72.08551356951227], [17.177364617979805, 71.74868889928175], [29.367949105737935, 74.99776639112689], [8.84426069513082, 77.24079619625833], [31.064726700444485, 75.94355687155918], [26.98707017116241, 70.58054704716548], [10.016022763996105, 95.76312684918888], [14.313848311499264, 96.88718021083936], [8.985867488662658, 93.4102122747938], [25.6254193663976, 68.02856269051725], [13.897523773345917, 68.91646779803261], [31.733837220740433, 74.57242384908669], [24.528413697367732, 93.4602336657722], [30.10039253344746, 87.42345304746921], [15.689606491262403, 82.965039745993], [31.083581729039864, 92.52705264201103], [12.01461438256836, 85.93554648473811], [15.797544472886319, 82.29338430261359], [25.055563459630637, 88.82476120519448], [24.385474631535864, 69.60605593626465], [31.249822689851754, 82.11855716960483], [29.90687970450732, 92.43679688433494], [26.255230420428127, 85.95257302297392], [9.388788030726174, 69.90868851513447], [28.259641279121208, 83.15858795586671], [14.853100680819434, 93.43760669102076], [23.710982170964616, 85.50833405468187]],\n",
              "                {&quot;blur&quot;: 15, &quot;maxZoom&quot;: 18, &quot;minOpacity&quot;: 0.5, &quot;radius&quot;: 25}\n",
              "            ).addTo(map_d29088c28f6ab3136e67c4f5aa8f0617);\n",
              "        \n",
              "&lt;/script&gt;\n",
              "&lt;/html&gt;\" style=\"position:absolute;width:100%;height:100%;left:0;top:0;border:none !important;\" allowfullscreen webkitallowfullscreen mozallowfullscreen></iframe></div></div>"
            ]
          },
          "metadata": {},
          "execution_count": 3
        }
      ],
      "source": [
        "import pandas as pd\n",
        "import random\n",
        "import folium\n",
        "from folium.plugins import HeatMap\n",
        "\n",
        "# Sample data for demonstration\n",
        "data = {\n",
        "    'Accident_ID': list(range(1, 101)),\n",
        "    'Latitude': [random.uniform(8, 32) for _ in range(100)],\n",
        "    'Longitude': [random.uniform(68, 98) for _ in range(100)],\n",
        "    'Accident_Description': ['Accident {}'.format(i) for i in range(1, 101)],\n",
        "    'Road_Conditions': [random.choice(['Dry', 'Wet', 'Snow', 'Ice']) for _ in range(100)],\n",
        "    'Weather_Conditions': [random.choice(['Clear', 'Cloudy', 'Rainy', 'Foggy']) for _ in range(100)],\n",
        "    'Time': [random.randint(0, 23) for _ in range(100)]\n",
        "}\n",
        "\n",
        "# Create DataFrame\n",
        "df = pd.DataFrame(data)\n",
        "\n",
        "# Create a map centered around a specific location in India\n",
        "m = folium.Map(location=[20.5937, 78.9629], zoom_start=5)\n",
        "\n",
        "# Add heatmap of accident hotspots\n",
        "heat_data = [[row['Latitude'], row['Longitude']] for index, row in df.iterrows()]\n",
        "HeatMap(heat_data).add_to(m)\n",
        "\n",
        "# Save the map as an HTML file\n",
        "m.save('accident_heatmap.html')\n",
        "\n",
        "# Display the map\n",
        "m"
      ]
    }
  ]
}